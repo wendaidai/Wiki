{
 "cells": [
  {
   "cell_type": "markdown",
   "metadata": {},
   "source": [
    "# *KNN*算法"
   ]
  },
  {
   "cell_type": "markdown",
   "metadata": {},
   "source": [
    "## 概述"
   ]
  },
  {
   "cell_type": "markdown",
   "metadata": {},
   "source": [
    "k-近邻算法 $(k-Nearest Neighbour algorithm)$，又称为 *KNN* 算法，是数据挖掘技术中原理最简单\n",
    "的算法。*KNN* 的工作原理：给定一个已知标签类别的训练数据集，输入没有标签的新数据后，在训练数\n",
    "据集中找到与新数据最邻近的k个实例，如果这 $k$ 个实例的多数属于某个类别，那么新数据就属于这个类\n",
    "别。可以简单理解为：由那些离 $X$ 最近的 $k$ 个点来投票决定 $X$ 归为哪一类。\n",
    "使用欧式距离（欧几里得度量）来刻画两个样本点之间的距离\n",
    "$$\n",
    "dist(x,y) = \\sqrt{(x_1-y_1)^{2} + (x_2-y_2)^{2} + \\cdots + (x_n-y_n)^{2}} = \\sqrt{\\sum_{i=1}^{n}(x_i-y_i)^{2}}\n",
    "$$\n",
    "\n",
    "k-近邻算法步骤如下\n",
    "1. 计算已知类别数据集合中的点与当前点之间的距离\n",
    "2. 按照距离递增次序排序\n",
    "3. 选取与当前点距离最小的 $k$ 个点\n",
    "4. 确定前 $k$ 个点所在类别的出现频率\n",
    "5. 返回前 $k$ 个点出现频率最高的类别作为当前点的预测类别"
   ]
  },
  {
   "cell_type": "markdown",
   "metadata": {},
   "source": [
    "## *Python* 实现"
   ]
  },
  {
   "cell_type": "markdown",
   "metadata": {},
   "source": [
    "### 算法实现\n",
    "\n",
    "通过一个简单的例子了解 *KNN* 算法的工作原理："
   ]
  },
  {
   "cell_type": "markdown",
   "metadata": {},
   "source": [
    "1. 构建已经分好类的原始数据集\n",
    "使用字典 `dict` 构建数据集，再将其转化成 $DataFrame$ 格式"
   ]
  },
  {
   "cell_type": "code",
   "execution_count": 10,
   "metadata": {},
   "outputs": [
    {
     "data": {
      "text/html": [
       "<div>\n",
       "<style scoped>\n",
       "    .dataframe tbody tr th:only-of-type {\n",
       "        vertical-align: middle;\n",
       "    }\n",
       "\n",
       "    .dataframe tbody tr th {\n",
       "        vertical-align: top;\n",
       "    }\n",
       "\n",
       "    .dataframe thead th {\n",
       "        text-align: right;\n",
       "    }\n",
       "</style>\n",
       "<table border=\"1\" class=\"dataframe\">\n",
       "  <thead>\n",
       "    <tr style=\"text-align: right;\">\n",
       "      <th></th>\n",
       "      <th>电影名称</th>\n",
       "      <th>打斗镜头</th>\n",
       "      <th>接吻镜头</th>\n",
       "      <th>电影类型</th>\n",
       "    </tr>\n",
       "  </thead>\n",
       "  <tbody>\n",
       "    <tr>\n",
       "      <th>0</th>\n",
       "      <td>无问西东</td>\n",
       "      <td>1</td>\n",
       "      <td>101</td>\n",
       "      <td>爱情片</td>\n",
       "    </tr>\n",
       "    <tr>\n",
       "      <th>1</th>\n",
       "      <td>后来的我们</td>\n",
       "      <td>5</td>\n",
       "      <td>89</td>\n",
       "      <td>爱情片</td>\n",
       "    </tr>\n",
       "    <tr>\n",
       "      <th>2</th>\n",
       "      <td>前任3</td>\n",
       "      <td>12</td>\n",
       "      <td>97</td>\n",
       "      <td>爱情片</td>\n",
       "    </tr>\n",
       "    <tr>\n",
       "      <th>3</th>\n",
       "      <td>红海行动</td>\n",
       "      <td>108</td>\n",
       "      <td>5</td>\n",
       "      <td>动作片</td>\n",
       "    </tr>\n",
       "    <tr>\n",
       "      <th>4</th>\n",
       "      <td>唐人街探案</td>\n",
       "      <td>112</td>\n",
       "      <td>9</td>\n",
       "      <td>动作片</td>\n",
       "    </tr>\n",
       "    <tr>\n",
       "      <th>5</th>\n",
       "      <td>战狼2</td>\n",
       "      <td>115</td>\n",
       "      <td>8</td>\n",
       "      <td>动作片</td>\n",
       "    </tr>\n",
       "  </tbody>\n",
       "</table>\n",
       "</div>"
      ],
      "text/plain": [
       "    电影名称  打斗镜头  接吻镜头 电影类型\n",
       "0   无问西东     1   101  爱情片\n",
       "1  后来的我们     5    89  爱情片\n",
       "2    前任3    12    97  爱情片\n",
       "3   红海行动   108     5  动作片\n",
       "4  唐人街探案   112     9  动作片\n",
       "5    战狼2   115     8  动作片"
      ]
     },
     "execution_count": 10,
     "metadata": {},
     "output_type": "execute_result"
    }
   ],
   "source": [
    "import pandas as pd\n",
    "row_data={'电影名称':['无问西东','后来的我们','前任3','红海行动','唐人街探案','战狼2'],\n",
    "        '打斗镜头':[1,5,12,108,112,115],\n",
    "        '接吻镜头':[101,89,97,5,9,8],\n",
    "        '电影类型':['爱情片','爱情片','爱情片','动作片','动作片','动作片']}\n",
    "movie_data = pd.DataFrame(row_data)\n",
    "movie_data"
   ]
  },
  {
   "cell_type": "markdown",
   "metadata": {},
   "source": [
    "2. 计算已知类别数据集中的点与当前点之间的距离"
   ]
  },
  {
   "cell_type": "code",
   "execution_count": 11,
   "metadata": {},
   "outputs": [
    {
     "data": {
      "text/plain": [
       "[41.048751503547585,\n",
       " 29.068883707497267,\n",
       " 32.31098884280702,\n",
       " 104.4030650891055,\n",
       " 105.39449701004318,\n",
       " 108.45275469069469]"
      ]
     },
     "execution_count": 11,
     "metadata": {},
     "output_type": "execute_result"
    }
   ],
   "source": [
    "'''\n",
    "iloc[: , :]\n",
    "参数分别为行和列\n",
    "左闭右开原则 \n",
    "'''\n",
    "new_data = [24,67] #待归类的样本点\n",
    "dist = list((((movie_data.iloc[:6,1:3]-new_data)**2).sum(1))**0.5) #sum(1) 求数组每一行的和\n",
    "dist"
   ]
  },
  {
   "cell_type": "markdown",
   "metadata": {},
   "source": [
    "3. 将所有距离以上所有距离升序排序，然后选取距离最小的 $k$ 个点\n",
    "\n",
    "这里选取 $k$ 的值为 $4$"
   ]
  },
  {
   "cell_type": "code",
   "execution_count": 12,
   "metadata": {},
   "outputs": [
    {
     "data": {
      "text/html": [
       "<div>\n",
       "<style scoped>\n",
       "    .dataframe tbody tr th:only-of-type {\n",
       "        vertical-align: middle;\n",
       "    }\n",
       "\n",
       "    .dataframe tbody tr th {\n",
       "        vertical-align: top;\n",
       "    }\n",
       "\n",
       "    .dataframe thead th {\n",
       "        text-align: right;\n",
       "    }\n",
       "</style>\n",
       "<table border=\"1\" class=\"dataframe\">\n",
       "  <thead>\n",
       "    <tr style=\"text-align: right;\">\n",
       "      <th></th>\n",
       "      <th>dist</th>\n",
       "      <th>labels</th>\n",
       "    </tr>\n",
       "  </thead>\n",
       "  <tbody>\n",
       "    <tr>\n",
       "      <th>1</th>\n",
       "      <td>29.068884</td>\n",
       "      <td>爱情片</td>\n",
       "    </tr>\n",
       "    <tr>\n",
       "      <th>2</th>\n",
       "      <td>32.310989</td>\n",
       "      <td>爱情片</td>\n",
       "    </tr>\n",
       "    <tr>\n",
       "      <th>0</th>\n",
       "      <td>41.048752</td>\n",
       "      <td>爱情片</td>\n",
       "    </tr>\n",
       "    <tr>\n",
       "      <th>3</th>\n",
       "      <td>104.403065</td>\n",
       "      <td>动作片</td>\n",
       "    </tr>\n",
       "  </tbody>\n",
       "</table>\n",
       "</div>"
      ],
      "text/plain": [
       "         dist labels\n",
       "1   29.068884    爱情片\n",
       "2   32.310989    爱情片\n",
       "0   41.048752    爱情片\n",
       "3  104.403065    动作片"
      ]
     },
     "execution_count": 12,
     "metadata": {},
     "output_type": "execute_result"
    }
   ],
   "source": [
    "dist_list = pd.DataFrame({'dist': dist, 'labels': (movie_data.iloc[:6, 3])})\n",
    "dis_res = dist_list.sort_values(by = 'dist')[: 4]\n",
    "dis_res"
   ]
  },
  {
   "cell_type": "markdown",
   "metadata": {},
   "source": [
    "4. 确定前 $k$ 个点所在类别的出现频率"
   ]
  },
  {
   "cell_type": "code",
   "execution_count": 13,
   "metadata": {},
   "outputs": [
    {
     "data": {
      "text/plain": [
       "爱情片    3\n",
       "动作片    1\n",
       "Name: labels, dtype: int64"
      ]
     },
     "execution_count": 13,
     "metadata": {},
     "output_type": "execute_result"
    }
   ],
   "source": [
    "res = dis_res.loc[:,'labels'].value_counts()\n",
    "res"
   ]
  },
  {
   "cell_type": "markdown",
   "metadata": {},
   "source": [
    "5. 选择频率最高的类别作为当前待预测样本点的预测类别"
   ]
  },
  {
   "cell_type": "code",
   "execution_count": 14,
   "metadata": {},
   "outputs": [
    {
     "data": {
      "text/plain": [
       "['爱情片']"
      ]
     },
     "execution_count": 14,
     "metadata": {},
     "output_type": "execute_result"
    }
   ],
   "source": [
    "new_data_label = []\n",
    "new_data_label.append(res.index[0])\n",
    "new_data_label"
   ]
  },
  {
   "cell_type": "markdown",
   "metadata": {},
   "source": [
    "### 函数封装"
   ]
  },
  {
   "cell_type": "code",
   "execution_count": 15,
   "metadata": {},
   "outputs": [],
   "source": [
    "import pandas as pd\n",
    "\n",
    "def KNN_classify(inX, dataSet, k):\n",
    "    \"\"\"KNN分类器\n",
    "\n",
    "    Parameters\n",
    "    ----------\n",
    "    inX : \n",
    "        待分类的样本点\n",
    "    dataSet : \n",
    "        _训练集（已知分类标签）\n",
    "    k : \n",
    "        KNN参数 k\n",
    "    \"\"\"\n",
    "\n",
    "    inX_label = []\n",
    "    dist = list((((dataSet.iloc[:,1:3]-inX)**2).sum(1))**0.5)\n",
    "    dist_list = pd.DataFrame({'dist': dist, 'labels': (dataSet.iloc[:, 3])})\n",
    "    dis_res = dist_list.sort_values(by = 'dist')[: k]\n",
    "    res = dis_res.loc[:,'labels'].value_counts()\n",
    "    inX_label.append(res.index[0])\n",
    "    return inX_label"
   ]
  },
  {
   "cell_type": "code",
   "execution_count": 16,
   "metadata": {},
   "outputs": [
    {
     "data": {
      "text/plain": [
       "['爱情片']"
      ]
     },
     "execution_count": 16,
     "metadata": {},
     "output_type": "execute_result"
    }
   ],
   "source": [
    "# 测试函数运行结果\n",
    "KNN_classify(new_data, movie_data, 3)"
   ]
  },
  {
   "cell_type": "markdown",
   "metadata": {},
   "source": [
    "### 数据归一化\n",
    "将不同特征转换为无量纲的特征向量，避免个别特征对分类结果影响远远大于其他特征对分类的影响\n",
    "最简单的 0-1 标准化公式如下：\n",
    "$$\n",
    "x_{normalization} = \\frac{x-\\min(x)}{\\max(x)-\\min(x)}\n",
    "$$"
   ]
  },
  {
   "cell_type": "code",
   "execution_count": 17,
   "metadata": {},
   "outputs": [],
   "source": [
    "def minmax_norm(dataSet):\n",
    "    \"\"\"minmax归一化处理\n",
    "\n",
    "    Parameters\n",
    "    ----------\n",
    "    dataSet :\n",
    "        原始数据集\n",
    "    \"\"\"    \n",
    "    minDf = dataSet.min()\n",
    "    maxDf = dataSet.max()\n",
    "    normSet = (dataSet - minDf )/(maxDf - minDf)\n",
    "    return normSet"
   ]
  },
  {
   "cell_type": "markdown",
   "metadata": {},
   "source": [
    "### 划分训练集和测试集\n",
    "为了测试分类效果，将原始数据集分成训练集和测试集两部分\n",
    "\n",
    "一般随机选取 $90%$ 作为训练集，剩下的 10% 作为测试集"
   ]
  },
  {
   "cell_type": "code",
   "execution_count": 18,
   "metadata": {},
   "outputs": [],
   "source": [
    "def randSplit(dataset, rate = 0.9):\n",
    "    \"\"\"随机划分训练集和测试集\n",
    "\n",
    "    Parameters\n",
    "    ----------\n",
    "    dataset : \n",
    "        原始数据集\n",
    "    rate :\n",
    "        训练集划分比例\n",
    "    \"\"\"\n",
    "    n = dataset.shape[0]\n",
    "    m = int(n * rate)\n",
    "    trainSet = dataset.iloc[:m, :]\n",
    "    testSet = dataset.iloc[m:, :]\n",
    "    testSet.index = range(testSet.shape[0])\n",
    "    return trainSet, testSet\n",
    "\n",
    "# 说明：该函数只适用于随机的原数据集"
   ]
  },
  {
   "cell_type": "markdown",
   "metadata": {},
   "source": [
    "## 总结\n",
    "- 优点\n",
    "  - 算法简单，精度高，既可以做分类也可以用作回归\n",
    "  - 可用于数值型和离散型数据\n",
    "  - 无数据输入假定\n",
    "  - 适合对稀有事件进行分类\n",
    "- 缺点\n",
    "  - 计算复杂性和空间复杂性较高\n",
    "  - 计算量大，一般数值很大的时候不使用 $KNN$，但是单个样本又不能太少，否则容易发生误分\n",
    "  - 样本不平衡问题\n",
    "  - 可理解性较差，无法给出数据内在含义"
   ]
  }
 ],
 "metadata": {
  "kernelspec": {
   "display_name": "Python 3.10.0 64-bit",
   "language": "python",
   "name": "python3"
  },
  "language_info": {
   "codemirror_mode": {
    "name": "ipython",
    "version": 3
   },
   "file_extension": ".py",
   "mimetype": "text/x-python",
   "name": "python",
   "nbconvert_exporter": "python",
   "pygments_lexer": "ipython3",
   "version": "3.10.0"
  },
  "orig_nbformat": 4,
  "vscode": {
   "interpreter": {
    "hash": "8baf67d759dc41d084056de23fe305760a7ffcb21bd78a2ec1cf32b9bc94016f"
   }
  }
 },
 "nbformat": 4,
 "nbformat_minor": 2
}
