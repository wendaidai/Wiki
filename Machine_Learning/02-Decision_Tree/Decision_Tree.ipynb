{
 "cells": [
  {
   "cell_type": "markdown",
   "metadata": {},
   "source": [
    "# 决策树\n",
    "\n",
    "## 概述\n",
    "决策树 $（Decision Tree）$ 属于有监督学习，有分类树也有决策树\n",
    "\n",
    "节点分类\n",
    "- 根节点：没有入度，只有出度\n",
    "- 中间节点：既有出度也有入度，入度均为 $1$，出度不限\n",
    "- 叶节点：没有出度，只有入度，入度均为 $1$。**每个叶节点都是一个类别标签**\n",
    "\n",
    "两个相邻节点中，更靠近根节点的称为 **父节点**，另一个称为 **子节点**\n",
    "\n",
    "可以把决策树看作一个 $if-then$ 规则的集合\n",
    "- 由决策树根节点到叶节点的每一条路径构建一条规则\n",
    "- 路径上中间节点的特征对应着规则的条件，叶节点的标签对应着规则的结论。\n",
    "\n",
    "决策树的路径或者其对应的 $if-then$ 规则集合有一个重要的性质：互斥并且完备。也就是说，每一个实例都被 **有且仅有一条** 路径或者规则所覆盖。这里的覆盖指的是实例的特征与路径上的特征一致，或实例满足规则的条件。\n",
    "\n",
    "## 构建决策树的准备工作\n",
    "### 1、特征选择\n",
    "特征选择就是决定用哪个特征来划分特征空间，其目的在于选取对训练数据具有分类能力的特征。这\n",
    "样可以提高决策树学习的效率。如果利用一个特征进行分类的结果与随机分类的结果没有很大的差别，\n",
    "则称这个特征是没有分类能力的，经验上扔掉这些特征对决策树学习的精度影响不会很大。\n",
    "\n",
    "一般而言，随着划分过程不断进行，我们希望决策树的分支节点\n",
    "所包含的样本尽可能属于同一类别，也就是节点的 **纯度** $（purity）$ 越来越高。\n",
    "\n",
    "实际使用中，衡量的度量一般是 **不纯度**，度量不纯度的指标有：熵、增益率、基尼指数\n",
    "\n",
    "#### 1.1、香农熵及其计算函数\n",
    "熵定义为信息的期望值，概率统计中，一般表示随机变量不确定性的度量\n",
    "\n",
    "假定当前样本集合 $D$ 中一共有 $n$ 类样本，第 $i$ 类样本为 $x_i$，则 $x_i$ 的信息定义为：\n",
    "$$\n",
    "l(x_i) = -\\log_2p(x_i)\n",
    "$$\n",
    "其中 $p(x_i)$ 表示选择该分类的概率\n",
    "\n",
    "通过上式，可以得到所有类别的信息。为了计算熵，需要计算所有类别的所有可能值包含的信息期望值（数学期望），通过以下公式得到\n",
    "$$\n",
    "Ent(D) = -\\sum_{i=1}^n p(x_i) l(x_i)\n",
    "$$\n",
    "$Ent(D)$ 的值越小，$D$ 的不纯度越低\n",
    "\n",
    "计算香农熵的 $python$ 代码如下："
   ]
  },
  {
   "cell_type": "code",
   "execution_count": 1,
   "metadata": {},
   "outputs": [],
   "source": [
    "def calEnt(dataSet):\n",
    "    \"\"\"计算香农熵\n",
    "\n",
    "    Parameters\n",
    "    ----------\n",
    "    dataSet : \n",
    "        原始数据集\n",
    "    \"\"\"\n",
    "    n = dataSet.shape[0] # 数据集行数\n",
    "    labelSet = dataSet.iloc[:, -1].value_counts() # 标签所有类别\n",
    "    p = labelSet / n # 每一类标签所占百分比\n",
    "    ent = (-p*np.log2(p)).sum() # 计算信息熵\n",
    "    return ent    "
   ]
  },
  {
   "cell_type": "code",
   "execution_count": 2,
   "metadata": {},
   "outputs": [],
   "source": [
    "import numpy as np\n",
    "import pandas as pd\n",
    "# 构建数据集进行计算信息熵的测试\n",
    "def createDataSet():\n",
    "    row_data = {'no surfacing':[1,1,1,0,0],\n",
    "                'flippers':[1,1,0,1,1],\n",
    "                'fish':['yes','yes','no','no','no']}\n",
    "    dataSet = pd.DataFrame(row_data)\n",
    "    return dataSet"
   ]
  },
  {
   "cell_type": "code",
   "execution_count": 3,
   "metadata": {},
   "outputs": [
    {
     "data": {
      "text/html": [
       "<div>\n",
       "<style scoped>\n",
       "    .dataframe tbody tr th:only-of-type {\n",
       "        vertical-align: middle;\n",
       "    }\n",
       "\n",
       "    .dataframe tbody tr th {\n",
       "        vertical-align: top;\n",
       "    }\n",
       "\n",
       "    .dataframe thead th {\n",
       "        text-align: right;\n",
       "    }\n",
       "</style>\n",
       "<table border=\"1\" class=\"dataframe\">\n",
       "  <thead>\n",
       "    <tr style=\"text-align: right;\">\n",
       "      <th></th>\n",
       "      <th>no surfacing</th>\n",
       "      <th>flippers</th>\n",
       "      <th>fish</th>\n",
       "    </tr>\n",
       "  </thead>\n",
       "  <tbody>\n",
       "    <tr>\n",
       "      <th>0</th>\n",
       "      <td>1</td>\n",
       "      <td>1</td>\n",
       "      <td>yes</td>\n",
       "    </tr>\n",
       "    <tr>\n",
       "      <th>1</th>\n",
       "      <td>1</td>\n",
       "      <td>1</td>\n",
       "      <td>yes</td>\n",
       "    </tr>\n",
       "    <tr>\n",
       "      <th>2</th>\n",
       "      <td>1</td>\n",
       "      <td>0</td>\n",
       "      <td>no</td>\n",
       "    </tr>\n",
       "    <tr>\n",
       "      <th>3</th>\n",
       "      <td>0</td>\n",
       "      <td>1</td>\n",
       "      <td>no</td>\n",
       "    </tr>\n",
       "    <tr>\n",
       "      <th>4</th>\n",
       "      <td>0</td>\n",
       "      <td>1</td>\n",
       "      <td>no</td>\n",
       "    </tr>\n",
       "  </tbody>\n",
       "</table>\n",
       "</div>"
      ],
      "text/plain": [
       "   no surfacing  flippers fish\n",
       "0             1         1  yes\n",
       "1             1         1  yes\n",
       "2             1         0   no\n",
       "3             0         1   no\n",
       "4             0         1   no"
      ]
     },
     "execution_count": 3,
     "metadata": {},
     "output_type": "execute_result"
    }
   ],
   "source": [
    "dataSet = createDataSet()\n",
    "dataSet"
   ]
  },
  {
   "cell_type": "code",
   "execution_count": 4,
   "metadata": {},
   "outputs": [
    {
     "data": {
      "text/plain": [
       "0.9709505944546686"
      ]
     },
     "execution_count": 4,
     "metadata": {},
     "output_type": "execute_result"
    }
   ],
   "source": [
    "calEnt(dataSet)"
   ]
  },
  {
   "cell_type": "markdown",
   "metadata": {},
   "source": [
    "熵越高，信息的不纯度就越高，也就是混合的数据就越多"
   ]
  },
  {
   "cell_type": "markdown",
   "metadata": {},
   "source": [
    "#### 1.2、信息增益\n",
    "信息增益 $（Information Gain）$ 的计算公式就是父节点的信息熵与其下所有总信息熵之差。要注意的是，此时计算子节点的总信息熵不能简单求和，而要求在求和汇总之前进行修正\n",
    "\n",
    "假设离散属性 $a$ 有 $V$ 个可能的取值 ${a_1,a_2,\\cdots ,a_v}$，若使用 $a$ 对样本数据集 $D$ 进行划分，则产生 $V$ 个分支节点，其中第 $v$ 个分支节点包含了 $D$ 中所有在属性 $a$ 上取值为 $a_v$ 的样本，记为 $D_v$。可根据信息熵的公式计算出 $D_v$ 的信息熵，再考虑到不同分支节点所包含的样本数不同，给分支节点赋予权重 $|D_v|/|D|$，这就是所谓的修正。\n",
    "\n",
    "所以信息增益的计算公式为\n",
    "$$\n",
    "Gain(D,a) = Ent(D) - \\sum_{i=1}^V \\frac{|D_v|}{|D|} * Ent(D_v)\n",
    "$$\n",
    "\n",
    "则上面数据集中第 $0$ 列的信息增益为："
   ]
  },
  {
   "cell_type": "code",
   "execution_count": 5,
   "metadata": {},
   "outputs": [
    {
     "data": {
      "text/plain": [
       "0.4199730940219749"
      ]
     },
     "execution_count": 5,
     "metadata": {},
     "output_type": "execute_result"
    }
   ],
   "source": [
    "a=(3/5)*(-(2/3)*np.log2(2/3)-(1/3)*np.log2(1/3))\n",
    "calEnt(dataSet)-a"
   ]
  },
  {
   "cell_type": "markdown",
   "metadata": {},
   "source": [
    "### 2、数据集最佳切分函数\n",
    "划分数据集的最佳准则是选择 **最大信息增益**，也就是信息下降最快的方向。"
   ]
  },
  {
   "cell_type": "code",
   "execution_count": 6,
   "metadata": {},
   "outputs": [],
   "source": [
    "def bestSplit(dataSet):\n",
    "    \"\"\"选择最佳分割特征和分割点\n",
    "    \n",
    "    Parameters\n",
    "    ----------\n",
    "    dataSet : \n",
    "        原始数据集\n",
    "    return : \n",
    "        数据集最佳切分列的索引\n",
    "    \"\"\"\n",
    "    baseEnt = calEnt(dataSet) # 计算原始熵\n",
    "    bestGain = 0 # 初始化信息熵\n",
    "    axis = -1 # 初始化最佳切分列（标签列）\n",
    "    for i in range(dataSet.shape[-1] - 1): # 对特征的每一列进行遍历\n",
    "        levels = dataSet.iloc[:, i].value_counts().index # 提取出当前列的所有取值\n",
    "        ents = 0 # 初始化子节点的信息熵\n",
    "        for j in levels: # 对当前列的每一个取值进行循环\n",
    "            childSet = dataSet[dataSet.iloc[:, i] == j] # 某一个子节点的 dataFrame\n",
    "            ent = calEnt(childSet) # 计算某一个子节点的信息熵\n",
    "            ents += (childSet.shape[0]/dataSet.shape[0])*ent # 计算当前列的信息熵\n",
    "        infoGain = baseEnt-ents # 计算当前列的信息增益\n",
    "        # print(f'第{i}列的信息增益为{infoGain}')\n",
    "        if (infoGain > bestGain):\n",
    "            bestGain = infoGain # 更新最佳信息增益\n",
    "            axis = i # 最大信息增益所在列的索引\n",
    "    return axis"
   ]
  },
  {
   "cell_type": "code",
   "execution_count": 7,
   "metadata": {},
   "outputs": [
    {
     "data": {
      "text/plain": [
       "0"
      ]
     },
     "execution_count": 7,
     "metadata": {},
     "output_type": "execute_result"
    }
   ],
   "source": [
    "bestSplit(dataSet)"
   ]
  },
  {
   "cell_type": "markdown",
   "metadata": {},
   "source": [
    "### 3、按照给定列切分数据集\n",
    "通过最佳切分函数返回最佳切分列索引，就可以根据这个索引，构建一个按照给定列切分数据集的函数"
   ]
  },
  {
   "cell_type": "code",
   "execution_count": 8,
   "metadata": {},
   "outputs": [],
   "source": [
    "def mySplit(dataSet, axis, value):\n",
    "    \"\"\"按照给定的列划分数据集\n",
    "\n",
    "    Parameters\n",
    "    ----------\n",
    "    dataSet : \n",
    "        原始数据集\n",
    "    axis : \n",
    "        指定的列索引\n",
    "    value : \n",
    "        指定的属性值\n",
    "    \"\"\"\n",
    "    col = dataSet.columns[axis]\n",
    "    redataSet = dataSet.loc[dataSet[col] == value,:].drop(col,axis=1)\n",
    "    return redataSet"
   ]
  },
  {
   "cell_type": "markdown",
   "metadata": {},
   "source": [
    "验证函数，以 `axis = 0`, `vaule = 1`为例"
   ]
  },
  {
   "cell_type": "code",
   "execution_count": 9,
   "metadata": {},
   "outputs": [
    {
     "data": {
      "text/html": [
       "<div>\n",
       "<style scoped>\n",
       "    .dataframe tbody tr th:only-of-type {\n",
       "        vertical-align: middle;\n",
       "    }\n",
       "\n",
       "    .dataframe tbody tr th {\n",
       "        vertical-align: top;\n",
       "    }\n",
       "\n",
       "    .dataframe thead th {\n",
       "        text-align: right;\n",
       "    }\n",
       "</style>\n",
       "<table border=\"1\" class=\"dataframe\">\n",
       "  <thead>\n",
       "    <tr style=\"text-align: right;\">\n",
       "      <th></th>\n",
       "      <th>flippers</th>\n",
       "      <th>fish</th>\n",
       "    </tr>\n",
       "  </thead>\n",
       "  <tbody>\n",
       "    <tr>\n",
       "      <th>0</th>\n",
       "      <td>1</td>\n",
       "      <td>yes</td>\n",
       "    </tr>\n",
       "    <tr>\n",
       "      <th>1</th>\n",
       "      <td>1</td>\n",
       "      <td>yes</td>\n",
       "    </tr>\n",
       "    <tr>\n",
       "      <th>2</th>\n",
       "      <td>0</td>\n",
       "      <td>no</td>\n",
       "    </tr>\n",
       "  </tbody>\n",
       "</table>\n",
       "</div>"
      ],
      "text/plain": [
       "   flippers fish\n",
       "0         1  yes\n",
       "1         1  yes\n",
       "2         0   no"
      ]
     },
     "execution_count": 9,
     "metadata": {},
     "output_type": "execute_result"
    }
   ],
   "source": [
    "mySplit(dataSet, 0, 1)"
   ]
  },
  {
   "cell_type": "markdown",
   "metadata": {},
   "source": [
    "## 递归构建决策树\n",
    "### *ID3* 算法\n",
    "*ID3* 算法的核心是在决策树各个节点上对应信息增益准则选择特征，递归地构建决策树。具体方法是：从根节点开始，对节点计算所有可能的特征的信息增益，选择信息增益最大的特征作为节点的特征，由该特征的不同取值建立子节点；再对子节点递归地调用以上方法，构建决策树；知道所有特征的信息增益均很小或没有特征可以选择为止，最后得到一个决策树。\n",
    "\n",
    "递归结束的条件是：程序遍历完所有的特征列，或者每个分支下的所有实例都具有相同分类。如果所有实例具有相同分类，则得到一个叶节点。任何到达叶节点的数据必然属于叶节点的分类，即叶节点里面必须是标签。\n",
    "\n",
    "### 构建决策树的 *python* 代码"
   ]
  },
  {
   "cell_type": "code",
   "execution_count": 10,
   "metadata": {},
   "outputs": [],
   "source": [
    "def createTree(dataSet):\n",
    "    \"\"\"基于最大信息增益切分数据集，递归构建决策树\n",
    "\n",
    "    Parameters\n",
    "    ----------\n",
    "    dataSet : \n",
    "        原始数据集（最后一列是标签）\n",
    "\n",
    "    Returns\n",
    "    -------\n",
    "    myTree :\n",
    "        字典形式的树\n",
    "    \"\"\"    \n",
    "    featlist = list(dataSet.columns) #提取出数据集所有的列\n",
    "    classlist = dataSet.iloc[:,-1].value_counts() #获取最后一列类标签\n",
    "    #判断最多标签数目是否等于数据集行数，或者数据集是否只有一列\n",
    "    if classlist[0]==dataSet.shape[0] or dataSet.shape[1] == 1:\n",
    "        return classlist.index[0] #如果是，返回类标签\n",
    "    axis = bestSplit(dataSet) #确定出当前最佳切分列的索引\n",
    "    bestfeat = featlist[axis] #获取该索引对应的特征\n",
    "    myTree = {bestfeat:{}} #采用字典嵌套的方式存储树信息\n",
    "    del featlist[axis] #删除当前特征\n",
    "    valuelist = set(dataSet.iloc[:,axis]) #提取最佳切分列所有属性值\n",
    "    for value in valuelist: #对每一个属性值递归建树\n",
    "        myTree[bestfeat][value] = createTree(mySplit(dataSet,axis,value))\n",
    "    return myTree"
   ]
  },
  {
   "cell_type": "code",
   "execution_count": 11,
   "metadata": {},
   "outputs": [
    {
     "data": {
      "text/plain": [
       "{'no surfacing': {0: 'no', 1: {'flippers': {0: 'no', 1: 'yes'}}}}"
      ]
     },
     "execution_count": 11,
     "metadata": {},
     "output_type": "execute_result"
    }
   ],
   "source": [
    "myTree = createTree(dataSet)\n",
    "myTree"
   ]
  },
  {
   "cell_type": "markdown",
   "metadata": {},
   "source": [
    "## 决策树存储\n",
    "使用 $numpy$ 中的 $save()$ 函数，将字典形式的数据直接保存成 $.npy$ 文件，需要调用时直接使用 $load()$ 函数即可。"
   ]
  },
  {
   "cell_type": "code",
   "execution_count": 12,
   "metadata": {},
   "outputs": [],
   "source": [
    "np.save('myTree.npy',myTree)"
   ]
  },
  {
   "cell_type": "code",
   "execution_count": 13,
   "metadata": {},
   "outputs": [
    {
     "data": {
      "text/plain": [
       "{'no surfacing': {0: 'no', 1: {'flippers': {0: 'no', 1: 'yes'}}}}"
      ]
     },
     "execution_count": 13,
     "metadata": {},
     "output_type": "execute_result"
    }
   ],
   "source": [
    "read_myTree = np.load('myTree.npy', allow_pickle=True).item()\n",
    "read_myTree"
   ]
  },
  {
   "cell_type": "markdown",
   "metadata": {},
   "source": [
    "## 使用决策树执行分类"
   ]
  },
  {
   "cell_type": "code",
   "execution_count": 14,
   "metadata": {},
   "outputs": [],
   "source": [
    "def classify(inputTree,labels, testVec):\n",
    "    \"\"\"使用已构建的决策树对一个测试实例进行分类\n",
    "\n",
    "    Parameters\n",
    "    ----------\n",
    "    inputTree : \n",
    "        已构建的决策树\n",
    "    labels : \n",
    "        存储选择的最优特征标签\n",
    "    testVec : \n",
    "        测试数据列表，顺序对应原始数据集\n",
    "\n",
    "    Returns\n",
    "    -------\n",
    "    classLabel :\n",
    "        分类结果\n",
    "    \"\"\"        \n",
    "    firstStr = next(iter(inputTree)) #获取决策树第一个节点\n",
    "    secondDict = inputTree[firstStr] #下一个字典\n",
    "    featIndex = labels.index(firstStr) #第一个节点所在列的索引\n",
    "    for key in secondDict.keys():\n",
    "        if testVec[featIndex] == key:\n",
    "            if type(secondDict[key]) == dict :\n",
    "                classLabel = classify(secondDict[key], labels, testVec)\n",
    "            else:\n",
    "                classLabel = secondDict[key]\n",
    "    return classLabel"
   ]
  },
  {
   "cell_type": "markdown",
   "metadata": {},
   "source": [
    "注意：\n",
    "- $python3$ 中 `myTree.keys()` 返回的是 `dict_keys` 类型而不是 `list` 类型，因此可以使用 `list(myTree.keys())[0]` 获取节点属性。"
   ]
  },
  {
   "cell_type": "code",
   "execution_count": 15,
   "metadata": {},
   "outputs": [],
   "source": [
    "def acc_classify(train,test):\n",
    "    \"\"\"对测试集进行预测，并返回预测的结果\n",
    "\n",
    "    Parameters\n",
    "    ----------\n",
    "    train : \n",
    "        训练集\n",
    "    test : \n",
    "        测试集\n",
    "\n",
    "    Returns\n",
    "    -------\n",
    "    test :\n",
    "        完成分类的测试集\n",
    "    \"\"\"    \n",
    "    inputTree = createTree(train) #根据测试集生成一棵树\n",
    "    labels = list(train.columns) #数据集所有的列名称\n",
    "    result = []\n",
    "    for i in range(test.shape[0]): #对测试集中每一条数据进行循环\n",
    "        testVec = test.iloc[i,:-1] #测试集中的一个实例\n",
    "        classLabel = classify(inputTree,labels,testVec) #预测该实例的分类\n",
    "        result.append(classLabel) #将分类结果追加到result列表中\n",
    "    test['predict']=result #将预测结果追加到测试集最后一列\n",
    "    acc = (test.iloc[:,-1]==test.iloc[:,-2]).mean() #计算准确率\n",
    "    print(f'模型预测准确率为{acc}')\n",
    "    return test"
   ]
  },
  {
   "cell_type": "code",
   "execution_count": 16,
   "metadata": {},
   "outputs": [
    {
     "name": "stdout",
     "output_type": "stream",
     "text": [
      "模型预测准确率为1.0\n"
     ]
    },
    {
     "name": "stderr",
     "output_type": "stream",
     "text": [
      "C:\\Users\\11065\\AppData\\Local\\Temp/ipykernel_27908/1597897043.py:23: SettingWithCopyWarning: \n",
      "A value is trying to be set on a copy of a slice from a DataFrame.\n",
      "Try using .loc[row_indexer,col_indexer] = value instead\n",
      "\n",
      "See the caveats in the documentation: https://pandas.pydata.org/pandas-docs/stable/user_guide/indexing.html#returning-a-view-versus-a-copy\n",
      "  test['predict']=result #将预测结果追加到测试集最后一列\n"
     ]
    },
    {
     "data": {
      "text/html": [
       "<div>\n",
       "<style scoped>\n",
       "    .dataframe tbody tr th:only-of-type {\n",
       "        vertical-align: middle;\n",
       "    }\n",
       "\n",
       "    .dataframe tbody tr th {\n",
       "        vertical-align: top;\n",
       "    }\n",
       "\n",
       "    .dataframe thead th {\n",
       "        text-align: right;\n",
       "    }\n",
       "</style>\n",
       "<table border=\"1\" class=\"dataframe\">\n",
       "  <thead>\n",
       "    <tr style=\"text-align: right;\">\n",
       "      <th></th>\n",
       "      <th>no surfacing</th>\n",
       "      <th>flippers</th>\n",
       "      <th>fish</th>\n",
       "      <th>predict</th>\n",
       "    </tr>\n",
       "  </thead>\n",
       "  <tbody>\n",
       "    <tr>\n",
       "      <th>0</th>\n",
       "      <td>1</td>\n",
       "      <td>1</td>\n",
       "      <td>yes</td>\n",
       "      <td>yes</td>\n",
       "    </tr>\n",
       "    <tr>\n",
       "      <th>1</th>\n",
       "      <td>1</td>\n",
       "      <td>1</td>\n",
       "      <td>yes</td>\n",
       "      <td>yes</td>\n",
       "    </tr>\n",
       "    <tr>\n",
       "      <th>2</th>\n",
       "      <td>1</td>\n",
       "      <td>0</td>\n",
       "      <td>no</td>\n",
       "      <td>no</td>\n",
       "    </tr>\n",
       "  </tbody>\n",
       "</table>\n",
       "</div>"
      ],
      "text/plain": [
       "   no surfacing  flippers fish predict\n",
       "0             1         1  yes     yes\n",
       "1             1         1  yes     yes\n",
       "2             1         0   no      no"
      ]
     },
     "execution_count": 16,
     "metadata": {},
     "output_type": "execute_result"
    }
   ],
   "source": [
    "train = dataSet\n",
    "test = dataSet.iloc[:3,:]\n",
    "acc_classify(train,test)"
   ]
  },
  {
   "cell_type": "markdown",
   "metadata": {},
   "source": [
    "使用 $SKlearn$ 中 $graphviz$ 包实现决策树的绘制"
   ]
  },
  {
   "cell_type": "code",
   "execution_count": 17,
   "metadata": {},
   "outputs": [
    {
     "ename": "AttributeError",
     "evalue": "module 'graphviz' has no attribute 'Source'",
     "output_type": "error",
     "traceback": [
      "\u001b[1;31m---------------------------------------------------------------------------\u001b[0m",
      "\u001b[1;31mAttributeError\u001b[0m                            Traceback (most recent call last)",
      "\u001b[1;32m~\\AppData\\Local\\Temp/ipykernel_27908/2935495402.py\u001b[0m in \u001b[0;36m<module>\u001b[1;34m\u001b[0m\n\u001b[0;32m     22\u001b[0m                                 \u001b[0mfilled\u001b[0m\u001b[1;33m=\u001b[0m\u001b[1;32mTrue\u001b[0m\u001b[1;33m,\u001b[0m \u001b[0mrounded\u001b[0m\u001b[1;33m=\u001b[0m\u001b[1;32mTrue\u001b[0m\u001b[1;33m,\u001b[0m\u001b[1;33m\u001b[0m\u001b[1;33m\u001b[0m\u001b[0m\n\u001b[0;32m     23\u001b[0m                                 special_characters=True)\n\u001b[1;32m---> 24\u001b[1;33m \u001b[0mgraphviz\u001b[0m\u001b[1;33m.\u001b[0m\u001b[0mSource\u001b[0m\u001b[1;33m(\u001b[0m\u001b[0mdot_data\u001b[0m\u001b[1;33m)\u001b[0m\u001b[1;33m\u001b[0m\u001b[1;33m\u001b[0m\u001b[0m\n\u001b[0m\u001b[0;32m     25\u001b[0m \u001b[1;31m#利用render方法生成图形\u001b[0m\u001b[1;33m\u001b[0m\u001b[1;33m\u001b[0m\u001b[0m\n\u001b[0;32m     26\u001b[0m \u001b[0mgraph\u001b[0m \u001b[1;33m=\u001b[0m \u001b[0mgraphviz\u001b[0m\u001b[1;33m.\u001b[0m\u001b[0mSource\u001b[0m\u001b[1;33m(\u001b[0m\u001b[0mdot_data\u001b[0m\u001b[1;33m)\u001b[0m\u001b[1;33m\u001b[0m\u001b[1;33m\u001b[0m\u001b[0m\n",
      "\u001b[1;31mAttributeError\u001b[0m: module 'graphviz' has no attribute 'Source'"
     ]
    }
   ],
   "source": [
    "from sklearn import tree\n",
    "from sklearn.tree import DecisionTreeClassifier\n",
    "import graphviz\n",
    "#特征\n",
    "Xtrain = dataSet.iloc[:,:-1]\n",
    "#标签\n",
    "Ytrain = dataSet.iloc[:,-1]\n",
    "labels = Ytrain.unique().tolist()\n",
    "Ytrain = Ytrain.apply(lambda x: labels.index(x)) #将本文转换为数字\n",
    "#绘制树模型\n",
    "clf = DecisionTreeClassifier()\n",
    "clf = clf.fit(Xtrain, Ytrain)\n",
    "tree.export_graphviz(clf)\n",
    "\n",
    "# dot_data = tree.export_graphviz(clf, out_file=None)\n",
    "# graphviz.Source(dot_data)\n",
    "\n",
    "#给图形增加标签和颜色\n",
    "dot_data = tree.export_graphviz(clf, out_file=None,\n",
    "                                feature_names=['no surfacing', 'flippers'],\n",
    "                                class_names=['fish', 'not fish'],\n",
    "                                filled=True, rounded=True,\n",
    "                                special_characters=True)\n",
    "graphviz.Source(dot_data)\n",
    "#利用render方法生成图形\n",
    "graph = graphviz.Source(dot_data)\n",
    "graph.render(\"fish\")\n",
    "graph\n"
   ]
  },
  {
   "cell_type": "markdown",
   "metadata": {},
   "source": [
    "## 决策树可视化\n",
    "使用 `matplotlib` 中的注解工具 `annotation` 进行绘制\n",
    "可视化需要使用的函数：\n",
    "- `getNumLeafs`：获取决策树叶子节点的数目\n",
    "- `getTreeDepth`：获取决策树深度\n",
    "- `plotNode`：绘制节点\n",
    "- `plotMidText`：绘制节点间的文本\n",
    "- `plotTree`：绘制决策树\n",
    "- `createPlot`：创建绘制面板（主函数）\n",
    "\n",
    "### 1、计算叶子节点数目"
   ]
  },
  {
   "cell_type": "code",
   "execution_count": null,
   "metadata": {},
   "outputs": [],
   "source": [
    "def getNumLeafs(myTree):\n",
    "    \"\"\"递归计算叶子节点个数\n",
    "\n",
    "    Parameters\n",
    "    ----------\n",
    "    myTree : \n",
    "        字典形式的树\n",
    "\n",
    "    Returns\n",
    "    -------\n",
    "    numLeafs :\n",
    "        叶子节点个数\n",
    "    \"\"\"    \n",
    "    numLeafs = 0 #初始化叶节点数目\n",
    "    firstStr = next(iter(myTree)) #获得树的第一个键值，即第一个特征\n",
    "    secondDict = myTree[firstStr] #获取下一组字典\n",
    "    for key in secondDict.keys():\n",
    "        if type(secondDict[key]) == dict: #测试该节点是否为字典\n",
    "            numLeafs += getNumLeafs(secondDict[key]) #是字典，递归，循环计算新分支叶节点数\n",
    "        else:\n",
    "            numLeafs +=1 #不是字典，代表此结点为叶子结点\n",
    "    return numLeafs"
   ]
  },
  {
   "cell_type": "markdown",
   "metadata": {},
   "source": [
    "### 2、计算决策树的深度"
   ]
  },
  {
   "cell_type": "code",
   "execution_count": null,
   "metadata": {},
   "outputs": [],
   "source": [
    "def getTreeDepth(myTree):\n",
    "    \"\"\"递归计算树的深度\n",
    "\n",
    "    Parameters\n",
    "    ----------\n",
    "    myTree : \n",
    "        字典形式的树\n",
    "\n",
    "    Returns\n",
    "    -------\n",
    "    maxDepth :\n",
    "        树的最大深度\n",
    "    \"\"\"    \n",
    "    maxDepth = 0\n",
    "    firstStr = next(iter(myTree))\n",
    "    secondDict = myTree[firstStr]\n",
    "    for key in secondDict.keys():\n",
    "        if type(secondDict[key]) == dict:\n",
    "            thisDepth = 1+getTreeDepth(secondDict[key])\n",
    "        else:\n",
    "            thisDepth = 1\n",
    "        if thisDepth>maxDepth:\n",
    "            maxDepth = thisDepth\n",
    "    return maxDepth"
   ]
  },
  {
   "cell_type": "markdown",
   "metadata": {},
   "source": [
    "### 3、绘制节点"
   ]
  },
  {
   "cell_type": "code",
   "execution_count": null,
   "metadata": {},
   "outputs": [],
   "source": [
    "import matplotlib.pyplot as plt\n",
    "%matplotlib inline\n",
    "plt.rcParams['font.sans-serif']=['SimHei'] #用来正常显示中文"
   ]
  },
  {
   "cell_type": "code",
   "execution_count": null,
   "metadata": {},
   "outputs": [],
   "source": [
    "def plotNode(nodeTxt, cntrPt, parentPt, nodeType):\n",
    "    \"\"\"绘制节点\n",
    "\n",
    "    Parameters\n",
    "    ----------\n",
    "    nodeTxt : \n",
    "        节点名\n",
    "    cntrPt : \n",
    "        文本位置\n",
    "    parentPt : \n",
    "        标注的箭头位置\n",
    "    nodeType : \n",
    "        节点格式\n",
    "    \"\"\"    \n",
    "    arrow_args = dict(arrowstyle=\"<-\") #定义箭头格式\n",
    "    createPlot.ax1.annotate(nodeTxt,\n",
    "                            xy=parentPt,xycoords='axes fraction',\n",
    "                            xytext=cntrPt, textcoords='axes fraction',\n",
    "                            va=\"center\", ha=\"center\",\n",
    "                            bbox=nodeType,\n",
    "                            arrowprops=arrow_args)"
   ]
  },
  {
   "cell_type": "markdown",
   "metadata": {},
   "source": [
    "### 4、标注有向边属性值"
   ]
  },
  {
   "cell_type": "code",
   "execution_count": null,
   "metadata": {},
   "outputs": [],
   "source": [
    "def plotMidText(cntrPt, parentPt, txtString):\n",
    "    \"\"\"标注有向边属性值\n",
    "\n",
    "    Parameters\n",
    "    ----------\n",
    "    cntrPt : \n",
    "        用于计算标注位置\n",
    "    parentPt : \n",
    "        用于计算标注位置\n",
    "    txtString : \n",
    "        标注的内容\n",
    "    \"\"\"    \n",
    "    xMid = (parentPt[0]-cntrPt[0])/2.0 + cntrPt[0] #计算标注位置的横坐标\n",
    "    yMid = (parentPt[1]-cntrPt[1])/2.0 + cntrPt[1] #计算标注位置的纵坐标\n",
    "    createPlot.ax1.text(xMid, yMid, txtString, va=\"center\", ha=\"center\",\n",
    "                        rotation=45)"
   ]
  },
  {
   "cell_type": "markdown",
   "metadata": {},
   "source": [
    "### 5、绘制决策树\n",
    "整体算法递归思路分三个步骤：\n",
    "- 绘制自身\n",
    "- 判断子节点非叶节点，递归\n",
    "- 判断子节点为叶节点，绘制"
   ]
  },
  {
   "cell_type": "code",
   "execution_count": null,
   "metadata": {},
   "outputs": [],
   "source": [
    "def plotTree(myTree, parentPt, nodeTxt):\n",
    "    \"\"\"绘制决策树\n",
    "\n",
    "    Parameters\n",
    "    ----------\n",
    "    myTree : \n",
    "        字典形式的决策树\n",
    "    parentPt : \n",
    "        标注的内容\n",
    "    nodeTxt : \n",
    "        节点名\n",
    "    \"\"\"    \n",
    "    decisionNode = dict(boxstyle=\"sawtooth\", fc=\"0.8\") #设置中间节点格式\n",
    "    leafNode = dict(boxstyle=\"round4\", fc=\"0.8\") #设置叶节点格式\n",
    "    numLeafs = getNumLeafs(myTree) #获取决策树叶结点数目，决定了树的宽度\n",
    "    depth = getTreeDepth(myTree) #获取决策树层数\n",
    "    firstStr = next(iter(myTree)) #下个字典\n",
    "    cntrPt = (plotTree.xOff+\n",
    "                    (1.0+float(numLeafs))/2.0/plotTree.totalW,plotTree.yOff)#确定中心位置\n",
    "    plotMidText(cntrPt, parentPt, nodeTxt) #标注有向边属性值\n",
    "    plotNode(firstStr, cntrPt, parentPt, decisionNode) #绘制节点\n",
    "    secondDict = myTree[firstStr] #下一个字典，也就是继续绘制子结点\n",
    "    plotTree.yOff = plotTree.yOff - 1.0/plotTree.totalD #y偏移\n",
    "    for key in secondDict.keys():\n",
    "        if type(secondDict[key])== dict: #测试该结点是否为字典\n",
    "            plotTree(secondDict[key],cntrPt,str(key)) #是字典则不是叶结点，递归调用继续绘制\n",
    "        else:\n",
    "            plotTree.xOff = plotTree.xOff + 1.0/plotTree.totalW #x偏移\n",
    "            plotNode(secondDict[key], (plotTree.xOff, plotTree.yOff), cntrPt, leafNode)\n",
    "            plotMidText((plotTree.xOff, plotTree.yOff), cntrPt, str(key))\n",
    "    plotTree.yOff = plotTree.yOff + 1.0/plotTree.totalD"
   ]
  },
  {
   "cell_type": "markdown",
   "metadata": {},
   "source": [
    "### 6、创建绘制面板"
   ]
  },
  {
   "cell_type": "code",
   "execution_count": null,
   "metadata": {},
   "outputs": [],
   "source": [
    "def createPlot(inTree):\n",
    "    \"\"\"创建绘制面板\n",
    "\n",
    "    Parameters\n",
    "    ----------\n",
    "    inTree : \n",
    "        字典形式的决策树\n",
    "    \"\"\"    \n",
    "    fig = plt.figure(1, facecolor='white') #创建fig\n",
    "    fig.clf() #清空fig\n",
    "    axprops = dict(xticks=[], yticks=[])\n",
    "    createPlot.ax1 = plt.subplot(111, frameon=False, **axprops) #去掉x、y轴\n",
    "    plotTree.totalW = float(getNumLeafs(inTree)) #获取决策树叶结点数目\n",
    "    plotTree.totalD = float(getTreeDepth(inTree)) #获取决策树深度\n",
    "    plotTree.xOff = -0.5/plotTree.totalW #x偏移\n",
    "    plotTree.yOff = 1.0 #y偏移\n",
    "    plotTree(inTree, (0.5,1.0), '') #绘制决策树\n",
    "    plt.show()"
   ]
  },
  {
   "cell_type": "code",
   "execution_count": null,
   "metadata": {},
   "outputs": [
    {
     "data": {
      "image/png": "[encoded data removed]",
      "text/plain": [
       "<Figure size 432x288 with 1 Axes>"
      ]
     },
     "metadata": {},
     "output_type": "display_data"
    }
   ],
   "source": [
    "createPlot(myTree)"
   ]
  },
  {
   "cell_type": "markdown",
   "metadata": {},
   "source": [
    "## 算法总结\n",
    "决策树优点;\n",
    "- 能够可视化，容易理解和解释\n",
    "- 数据准备工作少。（其他算法通常需要数据规范化，需要创建虚拟变量并删除空值等）\n",
    "- 能够哦同时处理数值和分类数据，既可以做回归也可以做分类\n",
    "- 效率高，决策树只需要进行一次构建，反复使用，每一次预测的最大计算次数不超过决策树的最大深度\n",
    "- 能够处理多输出问题，即含有多个标签的问题\n",
    "- 是一个白盒模型，结果能够很容易被解释。如果在模型中能够观察到给定情况，则可以通过布尔逻辑轻松解释条件。相反，在黑盒模型中（例如人工神经网络），结果可能难以解释\n",
    "\n",
    "决策树缺点：\n",
    "- 递归生成树的方法容易造成过拟合\n",
    "- 决策树可能是不稳定的，因为即使非常小的差异，也可能产生一棵完全不同的树\n",
    "- 如果某些分类占优势，决策树将会创建一棵有偏差的树。因此，建议在拟合决策树之前平衡数据集"
   ]
  }
 ],
 "metadata": {
  "kernelspec": {
   "display_name": "Python 3.10.0 64-bit",
   "language": "python",
   "name": "python3"
  },
  "language_info": {
   "codemirror_mode": {
    "name": "ipython",
    "version": 3
   },
   "file_extension": ".py",
   "mimetype": "text/x-python",
   "name": "python",
   "nbconvert_exporter": "python",
   "pygments_lexer": "ipython3",
   "version": "3.10.0"
  },
  "orig_nbformat": 4,
  "vscode": {
   "interpreter": {
    "hash": "8baf67d759dc41d084056de23fe305760a7ffcb21bd78a2ec1cf32b9bc94016f"
   }
  }
 },
 "nbformat": 4,
 "nbformat_minor": 2
}
